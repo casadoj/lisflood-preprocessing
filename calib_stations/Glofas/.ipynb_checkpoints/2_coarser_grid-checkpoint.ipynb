{
 "cells": [
  {
   "cell_type": "code",
   "execution_count": 3,
   "id": "88cb36b1-e1f2-45ed-a0e1-f3657d6720b1",
   "metadata": {},
   "outputs": [],
   "source": [
    "\"\"\"\n",
    "# -------------------------------------------------------------------------\n",
    "# Name:        Shapefile in low-res\n",
    "# Purpose:     creates shapefiles and a list in lower resolution (5 or 30 arcmin)\n",
    "#\n",
    "# Author:      Peter Burek, Jesús Casado Rodríguez\n",
    "#\n",
    "# Created:     15/05/2022\n",
    "# Copyright:   (c) PB 2022\n",
    "#\n",
    "# Update:      13/08/2024\n",
    "#\n",
    "# input:  results/grdc_shape_allend_1.txt  station with new location fitted to merit UPA from 3_makeshape.py\n",
    "# output: basins_30min.txt or basins_5min.txt: station with new location fitted to 30 arcmin or 5 arcmin\n",
    "#          shapefiles of low-res basins in : ashape30min or ashape5min e.g. grdc_basin_30min_basin_1104150.shp\n",
    "\n",
    "basins_30min.txt\n",
    "----------------\n",
    "No: Number from 0 ...\n",
    "GRDC_No: GRDC number\n",
    "similarity: similarity of 30min low-res shape with high-res shape from 3arcsec\n",
    "areaGRDC: area provided by GRDC\n",
    "area: area from high-res UPA MERIT at pour point\n",
    "lat: coorected latitude on high-res\n",
    "lon: corrected longitude on high-res\n",
    "area30min : area on pour point of best fitting 30arcmin grid cell\n",
    "lat30min: latitude on 30arcmin\n",
    "lon30min: longitude on 30arcmin\n",
    "lat30move: latitude moved to grid cell centre\n",
    "lon30move: longitude moved to grid cell centre\n",
    "indloc: locatation of indice which is taken as nbest fit: a 5x5 gridcell surrounding is taken numbered 0-24\n",
    "upsloc: location (index of 0-24) of best fitting upsstream area\n",
    "ind:    scoring result for best upstream fitting based on upstream area fitting and shape similarity\n",
    "ratio: scoring on upstream area fitting between low-res area and high-res area\n",
    "ups1:   low-res upstream area of best upstream fitting\n",
    "indshape: scoring on similarity between low-res shape and high res shape\n",
    "shapeloc: location (index of 0-24) of best fitting shape similarity\n",
    "ind:    scoring result for best upstream fitting based on upstream area fitting and shape similarity\n",
    "ratio: scoring on upstream area fitting between low-res area and high-res area\n",
    "ups1:   low-res upstream area of best shape fitting\n",
    "indshape: scoring on similarity between low-res shape and high res shape\n",
    "\n",
    "# uses\n",
    "# ldd_30min.tif: river network in pcraster format\n",
    "30min from Döll, P., Lehner, B. (2002): Validation of a new global 30-min drainage direction map. Journal of Hydrology, 258(1-4), 214-23\n",
    "5min ldd from: Eilander, D., van Verseveld, W., Yamazaki, D., Weerts, A., Winsemius, H. C., and Ward, P. J.: A hydrography upscaling method for scale-invariant parametrization of distributed hydrological models, Hydrol. Earth Syst. Sci., 25, 5287-5313, 10.5194/hess-25-5287-2021, 2021.\n",
    "# ups_30min.tif: upstream area in [km]\n",
    "\n",
    "# Shapefiles (smooth) with high resolution from: /ashape2_merit/grdc_basin_merit_\n",
    "\n",
    "\n",
    "# ----------------------------------------------------------------------\n",
    "\"\"\"\n",
    "\n",
    "import os\n",
    "os.environ['USE_PYGEOS'] = '0'\n",
    "import numpy as np\n",
    "import pandas as pd\n",
    "import geopandas as gpd\n",
    "import rioxarray\n",
    "import pyflwdir\n",
    "from pathlib import Path\n",
    "from tqdm.auto import tqdm\n",
    "\n",
    "import warnings\n",
    "warnings.filterwarnings(\"ignore\")\n",
    "\n",
    "import logging\n",
    "logging.basicConfig(level=logging.INFO, format='%(asctime)s | %(levelname)s | %(message)s')\n",
    "logger = logging.getLogger(__name__)\n",
    "\n",
    "from lisfloodpreprocessing import Config, read_input_files\n",
    "from lisfloodpreprocessing.utils import catchment_polygon, downstream_pixel"
   ]
  },
  {
   "cell_type": "code",
   "execution_count": 4,
   "id": "f4cd71f6-3e31-4b24-8695-8b233e490846",
   "metadata": {},
   "outputs": [],
   "source": [
    "### CONFIGURATION\n",
    "\n",
    "cfg = Config('Z:/nahaUsers/casadje/datasets/reservoirs/ResOpsES/ancillary/lfcoords/config.yml')"
   ]
  },
  {
   "cell_type": "code",
   "execution_count": 34,
   "id": "71bd723a-df3d-4665-8d73-a92449845945",
   "metadata": {},
   "outputs": [],
   "source": [
    "from shapely.geometry import Point"
   ]
  },
  {
   "cell_type": "code",
   "execution_count": 25,
   "id": "0d3084e4-eb76-4bae-92ab-dcf5a31af9ce",
   "metadata": {},
   "outputs": [],
   "source": [
    "points = inputs['points']"
   ]
  },
  {
   "cell_type": "code",
   "execution_count": 27,
   "id": "447cd4eb-14c0-4102-a99e-85b9b4fa7daa",
   "metadata": {},
   "outputs": [
    {
     "data": {
      "text/html": [
       "<div>\n",
       "<style scoped>\n",
       "    .dataframe tbody tr th:only-of-type {\n",
       "        vertical-align: middle;\n",
       "    }\n",
       "\n",
       "    .dataframe tbody tr th {\n",
       "        vertical-align: top;\n",
       "    }\n",
       "\n",
       "    .dataframe thead th {\n",
       "        text-align: right;\n",
       "    }\n",
       "</style>\n",
       "<table border=\"1\" class=\"dataframe\">\n",
       "  <thead>\n",
       "    <tr style=\"text-align: right;\">\n",
       "      <th></th>\n",
       "      <th>lon</th>\n",
       "      <th>lat</th>\n",
       "      <th>area</th>\n",
       "    </tr>\n",
       "    <tr>\n",
       "      <th>ID</th>\n",
       "      <th></th>\n",
       "      <th></th>\n",
       "      <th></th>\n",
       "    </tr>\n",
       "  </thead>\n",
       "  <tbody>\n",
       "    <tr>\n",
       "      <th>2648</th>\n",
       "      <td>-6.721875</td>\n",
       "      <td>43.476871</td>\n",
       "      <td>2506</td>\n",
       "    </tr>\n",
       "    <tr>\n",
       "      <th>2649</th>\n",
       "      <td>-7.827105</td>\n",
       "      <td>43.461095</td>\n",
       "      <td>134</td>\n",
       "    </tr>\n",
       "    <tr>\n",
       "      <th>2650</th>\n",
       "      <td>-8.009740</td>\n",
       "      <td>43.405480</td>\n",
       "      <td>396</td>\n",
       "    </tr>\n",
       "    <tr>\n",
       "      <th>2651</th>\n",
       "      <td>-6.827365</td>\n",
       "      <td>43.385655</td>\n",
       "      <td>2292</td>\n",
       "    </tr>\n",
       "    <tr>\n",
       "      <th>2652</th>\n",
       "      <td>-8.296299</td>\n",
       "      <td>43.281609</td>\n",
       "      <td>248</td>\n",
       "    </tr>\n",
       "  </tbody>\n",
       "</table>\n",
       "</div>"
      ],
      "text/plain": [
       "           lon        lat  area\n",
       "ID                             \n",
       "2648 -6.721875  43.476871  2506\n",
       "2649 -7.827105  43.461095   134\n",
       "2650 -8.009740  43.405480   396\n",
       "2651 -6.827365  43.385655  2292\n",
       "2652 -8.296299  43.281609   248"
      ]
     },
     "execution_count": 27,
     "metadata": {},
     "output_type": "execute_result"
    }
   ],
   "source": [
    "points.head()"
   ]
  },
  {
   "cell_type": "code",
   "execution_count": 31,
   "id": "17d5153d-6ec7-4c31-94e2-37bd53d6e8f2",
   "metadata": {},
   "outputs": [
    {
     "data": {
      "text/plain": [
       "CRS.from_epsg(4326)"
      ]
     },
     "execution_count": 31,
     "metadata": {},
     "output_type": "execute_result"
    }
   ],
   "source": []
  },
  {
   "cell_type": "code",
   "execution_count": 28,
   "id": "a5e33432-b073-4f51-a3f8-519fc159df7a",
   "metadata": {},
   "outputs": [],
   "source": []
  },
  {
   "cell_type": "code",
   "execution_count": 35,
   "id": "aac96b1b-65de-4981-bb52-4bf9a2534075",
   "metadata": {},
   "outputs": [
    {
     "name": "stdout",
     "output_type": "stream",
     "text": [
      "hola\n"
     ]
    }
   ],
   "source": [
    "if not isinstance(points, gpd.GeoDataFrame):\n",
    "    \n",
    "    \n",
    "    print('hola')"
   ]
  },
  {
   "cell_type": "code",
   "execution_count": 36,
   "id": "a662a17b-0bcc-4395-bc4f-d47863df72b4",
   "metadata": {},
   "outputs": [
    {
     "data": {
      "text/plain": [
       "<AxesSubplot:>"
      ]
     },
     "execution_count": 36,
     "metadata": {},
     "output_type": "execute_result"
    },
    {
     "data": {
      "image/png": "[encoded data removed]",
      "text/plain": [
       "<Figure size 640x480 with 1 Axes>"
      ]
     },
     "metadata": {},
     "output_type": "display_data"
    }
   ],
   "source": [
    "points.plot()"
   ]
  },
  {
   "cell_type": "code",
   "execution_count": 5,
   "id": "52892428-c391-4b04-a1b3-c4bb27287b87",
   "metadata": {},
   "outputs": [
    {
     "name": "stderr",
     "output_type": "stream",
     "text": [
      "2024-09-10 11:49:44,797 | INFO | Table of points correctly read: Z:\\nahaUsers\\casadje\\datasets\\reservoirs\\ResOpsES\\ancillary\\lfcoords\\grand.csv\n",
      "2024-09-10 11:49:44,835 | INFO | Map of upstream area in the finer grid corretly read: Z:\\nahaUsers\\casadje\\datasets\\reservoirs\\ResOpsES\\ancillary\\lfcoords\\MERIT\\upa.tif\n",
      "2024-09-10 11:49:44,847 | INFO | Map of local drainage directions in the finer grid corretly read: Z:\\nahaUsers\\casadje\\datasets\\reservoirs\\ResOpsES\\ancillary\\lfcoords\\MERIT\\dir.tif\n",
      "2024-09-10 11:49:44,878 | INFO | Map of upstream area in the coarser grid corretly read: Z:\\nahaUsers\\casadje\\EFASv5\\iberia\\upArea_iberian_01min.nc\n",
      "2024-09-10 11:49:44,898 | INFO | Map of local drainage directions in the coarser grid correctly read: Z:\\nahaUsers\\casadje\\EFASv5\\iberia\\maps\\ldd_iberian_01min.nc\n",
      "2024-09-10 11:49:44,898 | INFO | The resolution of the finer grid is 3 arcseconds\n",
      "2024-09-10 11:49:44,908 | INFO | The resolution of the coarser grid is 1 arcminutes\n"
     ]
    }
   ],
   "source": [
    "# read input files\n",
    "inputs = read_input_files(cfg)"
   ]
  },
  {
   "cell_type": "code",
   "execution_count": null,
   "id": "e734f444-8b4a-4ac9-ab53-20ef44622482",
   "metadata": {},
   "outputs": [],
   "source": [
    "### READ INPUT DATA\n",
    "\n",
    "# read upstream area map of coarse grid\n",
    "upstream_coarse = rioxarray.open_rasterio(cfg.UPSTREAM_COARSE).squeeze(dim='band')\n",
    "logger.info(f'Map of upstream area corretly read: {cfg.UPSTREAM_COARSE}')"
   ]
  },
  {
   "cell_type": "code",
   "execution_count": null,
   "id": "b41f1dd6-174c-4377-a717-6983d82d471a",
   "metadata": {},
   "outputs": [],
   "source": [
    "type(upstream_coarse)"
   ]
  },
  {
   "cell_type": "code",
   "execution_count": null,
   "id": "3d545c2b-22ee-43e8-b3e1-e4cee06ade08",
   "metadata": {},
   "outputs": [],
   "source": [
    "# read local drainage direction map\n",
    "ldd_coarse = rioxarray.open_rasterio(cfg.LDD_COARSE).squeeze(dim='band')\n",
    "logger.info(f'Map of local drainage directions correctly read: {cfg.LDD_COARSE}')"
   ]
  },
  {
   "cell_type": "code",
   "execution_count": null,
   "id": "0f40af67-cd47-4b6c-b4ac-0209029aaf69",
   "metadata": {},
   "outputs": [],
   "source": [
    "downstream_pixel(36.9833, -4.791667, ldd_coarse)"
   ]
  },
  {
   "cell_type": "code",
   "execution_count": null,
   "id": "30f717a8-ab24-48cd-81cb-cdf26981fd2b",
   "metadata": {},
   "outputs": [],
   "source": [
    "from shapely.geometry import Point\n",
    "import matplotlib.pyplot as plt"
   ]
  },
  {
   "cell_type": "code",
   "execution_count": null,
   "id": "c3e9e3a8-f411-477d-bffc-5b1d0faaaff6",
   "metadata": {},
   "outputs": [],
   "source": [
    "points_LR = pd.read_csv('Z:/nahaUsers/casadje/datasets/reservoirs/ResOpsES/ancillary/lfcoords/grand_1min.csv', index_col='ID')\n",
    "points_LR = gpd.GeoDataFrame(points_LR,\n",
    "                             geometry=[Point(xy) for xy in zip(points_LR['lon_1min'], points_LR['lat_1min'])],\n",
    "                             crs=4326)"
   ]
  },
  {
   "cell_type": "code",
   "execution_count": null,
   "id": "017a9f56-7ca3-437a-b2e2-3d21f93ce279",
   "metadata": {},
   "outputs": [],
   "source": [
    "cfg.SHAPE_FOLDER"
   ]
  },
  {
   "cell_type": "code",
   "execution_count": null,
   "id": "063c1908-7deb-4861-991a-d49f02a11523",
   "metadata": {},
   "outputs": [],
   "source": [
    "points_HR = gpd.read_file(cfg.SHAPE_FOLDER / '3sec' / 'grand_res_3sec.shp')\n",
    "points_HR.set_index('ID', drop=True, inplace=True)\n",
    "\n",
    "suffix_fine = list(set([col.split('_')[1] for col in points_HR.columns if '_' in col]))[0]\n",
    "suffix_fine"
   ]
  },
  {
   "cell_type": "code",
   "execution_count": null,
   "id": "4b4e2251-a684-43dd-a3f2-a7184f02cb93",
   "metadata": {},
   "outputs": [],
   "source": [
    "points_LR = gpd.read_file(cfg.SHAPE_FOLDER / '1min' / 'grand_res_1min.shp')\n",
    "points_LR.set_index('ID', drop=True, inplace=True)"
   ]
  },
  {
   "cell_type": "code",
   "execution_count": null,
   "id": "bd9ae2b4-e968-4a77-a069-cbaf2bfe86b8",
   "metadata": {},
   "outputs": [],
   "source": [
    "suffix_coarse = list(set([col.split('_')[1] for col in points_LR.columns if '_' in col]).difference([suffix_fine]))[0]"
   ]
  },
  {
   "cell_type": "code",
   "execution_count": null,
   "id": "3f5812b4-c58f-4b18-8899-bbc8ece3e807",
   "metadata": {},
   "outputs": [],
   "source": [
    "points_LR"
   ]
  },
  {
   "cell_type": "markdown",
   "id": "3e7f81d0-fd91-4990-8a64-679d97b5374c",
   "metadata": {},
   "source": [
    "***"
   ]
  },
  {
   "cell_type": "code",
   "execution_count": 8,
   "id": "a95cf2ce-9cd9-413c-bf09-74a86faefce0",
   "metadata": {},
   "outputs": [
    {
     "data": {
      "text/html": [
       "<div>\n",
       "<style scoped>\n",
       "    .dataframe tbody tr th:only-of-type {\n",
       "        vertical-align: middle;\n",
       "    }\n",
       "\n",
       "    .dataframe tbody tr th {\n",
       "        vertical-align: top;\n",
       "    }\n",
       "\n",
       "    .dataframe thead th {\n",
       "        text-align: right;\n",
       "    }\n",
       "</style>\n",
       "<table border=\"1\" class=\"dataframe\">\n",
       "  <thead>\n",
       "    <tr style=\"text-align: right;\">\n",
       "      <th></th>\n",
       "      <th>lon</th>\n",
       "      <th>lat</th>\n",
       "      <th>area</th>\n",
       "    </tr>\n",
       "    <tr>\n",
       "      <th>ID</th>\n",
       "      <th></th>\n",
       "      <th></th>\n",
       "      <th></th>\n",
       "    </tr>\n",
       "  </thead>\n",
       "  <tbody>\n",
       "    <tr>\n",
       "      <th>2648</th>\n",
       "      <td>-6.721875</td>\n",
       "      <td>43.476871</td>\n",
       "      <td>2506</td>\n",
       "    </tr>\n",
       "    <tr>\n",
       "      <th>2649</th>\n",
       "      <td>-7.827105</td>\n",
       "      <td>43.461095</td>\n",
       "      <td>134</td>\n",
       "    </tr>\n",
       "    <tr>\n",
       "      <th>2650</th>\n",
       "      <td>-8.009740</td>\n",
       "      <td>43.405480</td>\n",
       "      <td>396</td>\n",
       "    </tr>\n",
       "    <tr>\n",
       "      <th>2651</th>\n",
       "      <td>-6.827365</td>\n",
       "      <td>43.385655</td>\n",
       "      <td>2292</td>\n",
       "    </tr>\n",
       "    <tr>\n",
       "      <th>2652</th>\n",
       "      <td>-8.296299</td>\n",
       "      <td>43.281609</td>\n",
       "      <td>248</td>\n",
       "    </tr>\n",
       "  </tbody>\n",
       "</table>\n",
       "</div>"
      ],
      "text/plain": [
       "           lon        lat  area\n",
       "ID                             \n",
       "2648 -6.721875  43.476871  2506\n",
       "2649 -7.827105  43.461095   134\n",
       "2650 -8.009740  43.405480   396\n",
       "2651 -6.827365  43.385655  2292\n",
       "2652 -8.296299  43.281609   248"
      ]
     },
     "execution_count": 8,
     "metadata": {},
     "output_type": "execute_result"
    }
   ],
   "source": [
    "points = inputs['points']\n",
    "\n",
    "points.head()"
   ]
  },
  {
   "cell_type": "code",
   "execution_count": 18,
   "id": "62cc7b02-13da-4208-b34f-dbee3d76e364",
   "metadata": {},
   "outputs": [],
   "source": [
    "polygons = []\n",
    "for ID in points.index:\n",
    "    pol = gpd.read_file(cfg.OUTPUT_FOLDER_FINE / f'{ID}.shp')\n",
    "    pol.set_index('ID', inplace=True)\n",
    "    polygons.append(pol)\n",
    "polygons = pd.concat(polygons)"
   ]
  },
  {
   "cell_type": "code",
   "execution_count": 19,
   "id": "5545f025-ff66-4de5-8253-a1a9ffb45f7b",
   "metadata": {},
   "outputs": [
    {
     "data": {
      "text/html": [
       "<div>\n",
       "<style scoped>\n",
       "    .dataframe tbody tr th:only-of-type {\n",
       "        vertical-align: middle;\n",
       "    }\n",
       "\n",
       "    .dataframe tbody tr th {\n",
       "        vertical-align: top;\n",
       "    }\n",
       "\n",
       "    .dataframe thead th {\n",
       "        text-align: right;\n",
       "    }\n",
       "</style>\n",
       "<table border=\"1\" class=\"dataframe\">\n",
       "  <thead>\n",
       "    <tr style=\"text-align: right;\">\n",
       "      <th></th>\n",
       "      <th>lon</th>\n",
       "      <th>lat</th>\n",
       "      <th>area</th>\n",
       "      <th>area_3sec</th>\n",
       "      <th>lat_3sec</th>\n",
       "      <th>lon_3sec</th>\n",
       "      <th>geometry</th>\n",
       "    </tr>\n",
       "    <tr>\n",
       "      <th>ID</th>\n",
       "      <th></th>\n",
       "      <th></th>\n",
       "      <th></th>\n",
       "      <th></th>\n",
       "      <th></th>\n",
       "      <th></th>\n",
       "      <th></th>\n",
       "    </tr>\n",
       "  </thead>\n",
       "  <tbody>\n",
       "    <tr>\n",
       "      <th>2648</th>\n",
       "      <td>-6.721875</td>\n",
       "      <td>43.476871</td>\n",
       "      <td>2506.0</td>\n",
       "      <td>None</td>\n",
       "      <td>None</td>\n",
       "      <td>None</td>\n",
       "      <td>POLYGON ((-6.68542 43.49708, -6.68042 43.49708...</td>\n",
       "    </tr>\n",
       "    <tr>\n",
       "      <th>2649</th>\n",
       "      <td>-7.827105</td>\n",
       "      <td>43.461095</td>\n",
       "      <td>134.0</td>\n",
       "      <td>None</td>\n",
       "      <td>None</td>\n",
       "      <td>None</td>\n",
       "      <td>POLYGON ((-7.82042 43.51542, -7.81792 43.51542...</td>\n",
       "    </tr>\n",
       "    <tr>\n",
       "      <th>2650</th>\n",
       "      <td>-8.009740</td>\n",
       "      <td>43.405480</td>\n",
       "      <td>396.0</td>\n",
       "      <td>None</td>\n",
       "      <td>None</td>\n",
       "      <td>None</td>\n",
       "      <td>POLYGON ((-7.87542 43.51958, -7.87042 43.51958...</td>\n",
       "    </tr>\n",
       "    <tr>\n",
       "      <th>2651</th>\n",
       "      <td>-6.827365</td>\n",
       "      <td>43.385655</td>\n",
       "      <td>2292.0</td>\n",
       "      <td>None</td>\n",
       "      <td>None</td>\n",
       "      <td>None</td>\n",
       "      <td>POLYGON ((-6.86958 43.41875, -6.86458 43.41875...</td>\n",
       "    </tr>\n",
       "    <tr>\n",
       "      <th>2652</th>\n",
       "      <td>-8.296299</td>\n",
       "      <td>43.281609</td>\n",
       "      <td>248.0</td>\n",
       "      <td>None</td>\n",
       "      <td>None</td>\n",
       "      <td>None</td>\n",
       "      <td>POLYGON ((-8.27458 43.30792, -8.27375 43.30792...</td>\n",
       "    </tr>\n",
       "  </tbody>\n",
       "</table>\n",
       "</div>"
      ],
      "text/plain": [
       "           lon        lat    area area_3sec lat_3sec lon_3sec  \\\n",
       "ID                                                              \n",
       "2648 -6.721875  43.476871  2506.0      None     None     None   \n",
       "2649 -7.827105  43.461095   134.0      None     None     None   \n",
       "2650 -8.009740  43.405480   396.0      None     None     None   \n",
       "2651 -6.827365  43.385655  2292.0      None     None     None   \n",
       "2652 -8.296299  43.281609   248.0      None     None     None   \n",
       "\n",
       "                                               geometry  \n",
       "ID                                                       \n",
       "2648  POLYGON ((-6.68542 43.49708, -6.68042 43.49708...  \n",
       "2649  POLYGON ((-7.82042 43.51542, -7.81792 43.51542...  \n",
       "2650  POLYGON ((-7.87542 43.51958, -7.87042 43.51958...  \n",
       "2651  POLYGON ((-6.86958 43.41875, -6.86458 43.41875...  \n",
       "2652  POLYGON ((-8.27458 43.30792, -8.27375 43.30792...  "
      ]
     },
     "execution_count": 19,
     "metadata": {},
     "output_type": "execute_result"
    }
   ],
   "source": [
    "polygons.head()"
   ]
  },
  {
   "cell_type": "code",
   "execution_count": 24,
   "id": "d21b8deb-0aa8-466e-b7f6-d139673e00b1",
   "metadata": {},
   "outputs": [
    {
     "data": {
      "text/plain": [
       "<Geographic 2D CRS: EPSG:4326>\n",
       "Name: WGS 84\n",
       "Axis Info [ellipsoidal]:\n",
       "- Lat[north]: Geodetic latitude (degree)\n",
       "- Lon[east]: Geodetic longitude (degree)\n",
       "Area of Use:\n",
       "- name: World.\n",
       "- bounds: (-180.0, -90.0, 180.0, 90.0)\n",
       "Datum: World Geodetic System 1984 ensemble\n",
       "- Ellipsoid: WGS 84\n",
       "- Prime Meridian: Greenwich"
      ]
     },
     "execution_count": 24,
     "metadata": {},
     "output_type": "execute_result"
    }
   ],
   "source": [
    "polygons.loc[[2648]].crs"
   ]
  },
  {
   "cell_type": "code",
   "execution_count": 15,
   "id": "35b44c69-6eca-41b6-8a81-2ad426112032",
   "metadata": {},
   "outputs": [
    {
     "data": {
      "text/plain": [
       "<AxesSubplot:>"
      ]
     },
     "execution_count": 15,
     "metadata": {},
     "output_type": "execute_result"
    },
    {
     "data": {
      "image/png": "[encoded data removed]",
      "text/plain": [
       "<Figure size 640x480 with 1 Axes>"
      ]
     },
     "metadata": {},
     "output_type": "display_data"
    }
   ],
   "source": [
    ".plot()"
   ]
  },
  {
   "cell_type": "code",
   "execution_count": 7,
   "id": "5bb48b2d-e12f-4312-8c79-5080a60e6902",
   "metadata": {},
   "outputs": [
    {
     "data": {
      "text/plain": [
       "WindowsPath('Z:/nahaUsers/casadje/datasets/reservoirs/ResOpsES/ancillary/lfcoords/shapefiles/3sec')"
      ]
     },
     "execution_count": 7,
     "metadata": {},
     "output_type": "execute_result"
    }
   ],
   "source": [
    "cfg.OUTPUT_FOLDER_FINE"
   ]
  },
  {
   "cell_type": "code",
   "execution_count": null,
   "id": "fb29a52a-259b-42d6-bc06-284994f40e3e",
   "metadata": {},
   "outputs": [],
   "source": []
  },
  {
   "cell_type": "code",
   "execution_count": null,
   "id": "8979419a-c534-462f-a250-3b65c99b13eb",
   "metadata": {},
   "outputs": [],
   "source": []
  },
  {
   "cell_type": "markdown",
   "id": "1fb4589b-9f0d-4164-8ae0-c8292b004e01",
   "metadata": {},
   "source": [
    "***"
   ]
  },
  {
   "cell_type": "code",
   "execution_count": null,
   "id": "29798719-f2aa-4db3-9faa-09c1ca355bdf",
   "metadata": {},
   "outputs": [],
   "source": [
    "from typing import List\n",
    "\n"
   ]
  },
  {
   "cell_type": "code",
   "execution_count": null,
   "id": "f01e7516-ca7d-47f1-afcf-548b897afed8",
   "metadata": {},
   "outputs": [],
   "source": [
    "cfg.SHAPE_FOLDER"
   ]
  },
  {
   "cell_type": "code",
   "execution_count": null,
   "id": "ad917799-4fa4-4b9b-9ec0-7dc535d15ce0",
   "metadata": {},
   "outputs": [],
   "source": [
    "cfg.SHAPE_FOLDER = Path('./')"
   ]
  },
  {
   "cell_type": "code",
   "execution_count": null,
   "id": "0c14f287-3bdc-466b-afa6-25e9438885ad",
   "metadata": {},
   "outputs": [],
   "source": [
    "cfg.SHAPE_FOLDER"
   ]
  },
  {
   "cell_type": "code",
   "execution_count": null,
   "id": "3858d4c4-c715-4fb0-8236-bd436b05018e",
   "metadata": {},
   "outputs": [],
   "source": [
    "find_conflicts(points_HR, columns=[f'{var}_{suffix_fine}' for var in ['lat', 'lon']])"
   ]
  },
  {
   "cell_type": "code",
   "execution_count": null,
   "id": "d1c2cc98-141f-48cd-89d4-56019d5994e6",
   "metadata": {},
   "outputs": [],
   "source": [
    "find_conflicts(points_LR, columns=[f'{var}_{suffix_coarse}' for var in ['lat', 'lon']])"
   ]
  },
  {
   "cell_type": "code",
   "execution_count": null,
   "id": "8f17ec6b-fd92-49ba-8d74-4624c21f12e4",
   "metadata": {},
   "outputs": [],
   "source": [
    "mask = points_LR.duplicated(subset=[f'{var}_{suffix_coarse}' for var in ['lat', 'lon']],\n",
    "                                keep=False)\n",
    "duplicates = points_LR[mask]"
   ]
  },
  {
   "cell_type": "code",
   "execution_count": null,
   "id": "6e60140d-8fb9-4f1a-8cdb-d14d29337988",
   "metadata": {},
   "outputs": [],
   "source": [
    "duplicates"
   ]
  },
  {
   "cell_type": "code",
   "execution_count": null,
   "id": "8454e1e7-93c0-457b-a416-2c70c861e3e0",
   "metadata": {},
   "outputs": [],
   "source": [
    "points_HR.head()"
   ]
  },
  {
   "cell_type": "code",
   "execution_count": null,
   "id": "06b36cf8-e297-4b86-9c99-06832394efac",
   "metadata": {},
   "outputs": [],
   "source": [
    "suffix_coarse = np.unique([col.split('_')[1] for col in points_LR.columns.difference(points_HR.columns)])[0]\n",
    "duplicates = points_LR.duplicated(subset=[f'{var}_{suffix_coarse}' for var in ['lat', 'lon', 'area']],\n",
    "                                 keep=False)\n",
    "duplicated_points_LR = points_LR[duplicates]\n",
    "n_duplicates = len(duplicated_points_LR[f'lon_{suffix_coarse}'].unique())\n",
    "if n_duplicates > 0:\n",
    "    print(f'There are {n_duplicates} conflicts in which reservoirs are located at the same pixel')"
   ]
  },
  {
   "cell_type": "code",
   "execution_count": null,
   "id": "ade4839f-3bb8-44f0-afda-fbf81babf54e",
   "metadata": {},
   "outputs": [],
   "source": [
    "suffix_fine"
   ]
  },
  {
   "cell_type": "code",
   "execution_count": null,
   "id": "a6b3a7bc-0505-4591-b2a1-e9397df459c6",
   "metadata": {},
   "outputs": [],
   "source": [
    "list(set([col.split('_')[1] for col in points_LR.columns.difference(points_HR.columns)]))[0]"
   ]
  },
  {
   "cell_type": "code",
   "execution_count": null,
   "id": "5f72a40f-1bbe-43c1-8865-e67d1db44e6c",
   "metadata": {},
   "outputs": [],
   "source": [
    "list(set([col.split('_')[1] for col in points_LR.columns if '_' in col]).difference([suffix_fine]))[0]"
   ]
  },
  {
   "cell_type": "code",
   "execution_count": null,
   "id": "d136a7cf-c886-4c32-a372-5d83d1ac29b3",
   "metadata": {},
   "outputs": [],
   "source": [
    "cfg.SHAPE_FOLDER"
   ]
  },
  {
   "cell_type": "code",
   "execution_count": null,
   "id": "30099e8e-56ac-43e7-9c4f-41626926985e",
   "metadata": {},
   "outputs": [],
   "source": [
    "suffix_fine = points_LR.to_file(cfg.SHAPE_FOLDER / f'{cfg.POINTS.stem}_{suffix_coarse}.shp')"
   ]
  },
  {
   "cell_type": "code",
   "execution_count": null,
   "id": "d06d94b3-0013-40c6-b059-60a86dbfdd58",
   "metadata": {},
   "outputs": [],
   "source": [
    "np.unique([col.split('_')[1] for col in points_LR.columns.difference(points_HR.columns)])[0]"
   ]
  },
  {
   "cell_type": "code",
   "execution_count": null,
   "id": "128aa99e-f972-4f29-bba6-68a318dc979d",
   "metadata": {},
   "outputs": [],
   "source": [
    "duplicated_points_LR.to_file(cfg.SHAPE_FOLDER / f'conflicts_{suffix_coarse}.shp')"
   ]
  },
  {
   "cell_type": "code",
   "execution_count": null,
   "id": "b877ee17-83cf-49b9-a5d2-810ef22c8738",
   "metadata": {},
   "outputs": [],
   "source": [
    "fig, ax = plt.subplots()\n",
    "points_LR.plot(ax=ax)\n",
    "points_LR[duplicates].plot(c='C1', ax=ax)"
   ]
  },
  {
   "cell_type": "code",
   "execution_count": null,
   "id": "398175ab-69a2-476d-b07c-5abff145f2a4",
   "metadata": {
    "tags": []
   },
   "outputs": [],
   "source": [
    "upstream_coarse"
   ]
  },
  {
   "cell_type": "code",
   "execution_count": null,
   "id": "ea90e0da-637a-44f9-99a8-651dae0e86b8",
   "metadata": {},
   "outputs": [],
   "source": [
    "ldd_coarse"
   ]
  },
  {
   "cell_type": "code",
   "execution_count": null,
   "id": "869e7b20-4fec-4d76-b603-496c57f2d8b7",
   "metadata": {},
   "outputs": [],
   "source": [
    "points_LR.crs"
   ]
  },
  {
   "cell_type": "code",
   "execution_count": null,
   "id": "22a1d06b-3d22-4758-84e5-2ad9a36973e4",
   "metadata": {},
   "outputs": [],
   "source": [
    "duplicates"
   ]
  },
  {
   "cell_type": "code",
   "execution_count": null,
   "id": "2c7d9a64-bb7c-4bd5-987e-1a017431287c",
   "metadata": {},
   "outputs": [],
   "source": [
    "len(points_LR[duplicates]['lon_1min'].unique())"
   ]
  },
  {
   "cell_type": "code",
   "execution_count": null,
   "id": "0a7d3099-2a66-4f27-9d13-fc3fe8eb8a21",
   "metadata": {},
   "outputs": [],
   "source": []
  },
  {
   "cell_type": "code",
   "execution_count": null,
   "id": "1a01399d-b301-4539-8191-cd12e78982c7",
   "metadata": {},
   "outputs": [],
   "source": []
  },
  {
   "cell_type": "code",
   "execution_count": null,
   "id": "987b9fb4-fd1e-4baa-acc4-045c0a1ffb40",
   "metadata": {},
   "outputs": [],
   "source": [
    "# create river network\n",
    "fdir_coarse = pyflwdir.from_array(ldd_coarse.data,\n",
    "                                  ftype='ldd',\n",
    "                                  transform=ldd_coarse.rio.transform(),\n",
    "                                  check_ftype=False,\n",
    "                                  latlon=True)\n",
    "\n",
    "# boundaries of the input maps\n",
    "lon_min, lat_min, lon_max, lat_max = np.round(ldd_coarse.rio.bounds(), 6)\n",
    "\n",
    "# resolution of the input maps\n",
    "cellsize = np.round(np.mean(np.diff(ldd_coarse.x)), 6) # degrees\n",
    "cellsize_arcmin = int(np.round(cellsize * 60, 0)) # arcmin\n",
    "suffix_coarse = f'{cellsize_arcmin}min'\n",
    "logger.info(f'Coarse resolution is {cellsize_arcmin} arcminutes')"
   ]
  },
  {
   "cell_type": "code",
   "execution_count": null,
   "id": "a523ceab-70cd-4d5b-b6ac-541fdf333382",
   "metadata": {},
   "outputs": [],
   "source": [
    "# read stations text file\n",
    "stations = pd.read_csv(cfg.POINTS, index_col='ID')\n",
    "logger.info(f'Table of stations correctly read: {cfg.POINTS}')"
   ]
  },
  {
   "cell_type": "code",
   "execution_count": null,
   "id": "cc0b6f63-1d99-4ad0-90e6-90b292476d93",
   "metadata": {},
   "outputs": [],
   "source": [
    "# extract resolution of the finer grid\n",
    "suffixes = [col.split('_')[1] for col in stations.columns if '_' in col]\n",
    "suffix_fine = sorted(set(suffixes))[0]\n",
    "cols_fine = [f'{col}_{suffix_fine}' for col in ['lat', 'lon', 'area']]\n",
    "\n",
    "# add new columns\n",
    "cols_coarse = [f'{col}_{suffix_coarse}' for col in ['lat', 'lon', 'area']]\n",
    "stations[cols_coarse] = np.nan\n",
    "\n",
    "# output folders\n",
    "SHAPE_FOLDER_FINE = cfg.SHAPE_FOLDER / suffix_fine\n",
    "SHAPE_FOLDER_COARSE = cfg.SHAPE_FOLDER / suffix_coarse\n",
    "for folder in [SHAPE_FOLDER_FINE, SHAPE_FOLDER_COARSE]:\n",
    "    folder.mkdir(parents=True, exist_ok=True)"
   ]
  },
  {
   "cell_type": "code",
   "execution_count": null,
   "id": "b1f50e24-5f30-44c2-ba54-f710524fb644",
   "metadata": {},
   "outputs": [],
   "source": [
    "### PROCESSING\n",
    "\n",
    "# search range of 5x5 array -> this is where the best point STATIONSfound in the coarse grid\n",
    "rangexy = np.linspace(-2, 2, 5) * cellsize # arcmin\n",
    "\n",
    "for ID, attrs in tqdm(stations.iterrows(), total=stations.shape[0], desc='stations'):\n",
    "    \n",
    "    # real upstream area\n",
    "    area_ref = attrs['area']\n",
    "    \n",
    "    # coordinates and upstream area in the fine grid\n",
    "    lat_fine, lon_fine, area_fine = attrs[[f'{col}_{suffix_fine}' for col in ['lat', 'lon', 'area']]]\n",
    "       \n",
    "    if (area_ref < cfg.MIN_AREA) or (area_fine < cfg.MIN_AREA):\n",
    "        logger.info(f'The catchment area of station {ID} is smaller than the minimum of {cfg.MIN_AREA} km2')\n",
    "        continue\n",
    "                        \n",
    "    # import shapefile of catchment polygon\n",
    "    shapefile = SHAPE_FOLDER_FINE / f'{ID}.shp'\n",
    "    try:\n",
    "        basin_fine = gpd.read_file(shapefile)\n",
    "        logger.info(f'Catchment polygon correctly read: {shapefile}')\n",
    "    except OSError as e:\n",
    "        logger.error(f'Error reading {shapefile}: {e}')\n",
    "        continue\n",
    "    except Exception as e:  # This will catch other exceptions that might occur.\n",
    "        logger.error(f'An unexpected error occurred while reading {shapefile}: {e}')\n",
    "        continue\n",
    "\n",
    "    # find ratio\n",
    "    logger.debug('Start search')\n",
    "    inter_vs_union, area_ratio, area_lisf = [], [], []\n",
    "    for Δlat in rangexy:\n",
    "        for Δlon in rangexy:\n",
    "            lon = lon_fine + Δlon\n",
    "            lat = lat_fine + Δlat\n",
    "            basin = catchment_polygon(fdir_coarse.basins(xy=(lon, lat)).astype(np.int32),\n",
    "                                      transform=ldd_coarse.rio.transform(), \n",
    "                                      crs=ldd_coarse.rio.crs)\n",
    "\n",
    "            # calculate union and intersection of shapes\n",
    "            intersection = gpd.overlay(basin_fine, basin, how='intersection')\n",
    "            union = gpd.overlay(basin_fine, basin, how='union')\n",
    "            inter_vs_union.append(intersection.area.sum() / union.area.sum())\n",
    "\n",
    "            # get upstream area (km2) of coarse grid (LISFLOOD)\n",
    "            area = upstream_coarse.sel(x=lon, y=lat, method='nearest').item() * 1e-6\n",
    "            area_lisf.append(area)\n",
    "\n",
    "            # ratio between reference and coarse area\n",
    "            if area_ref == 0 or area == 0:\n",
    "                ratio = 0\n",
    "            else:\n",
    "                ratio = area_ref / area if area_ref < area else area / area_ref\n",
    "            area_ratio.append(ratio)\n",
    "    logger.debug('End search')\n",
    "\n",
    "    # maximum of shape similarity and upstream area accordance\n",
    "    i_shape = np.argmax(inter_vs_union)\n",
    "    area_shape = area_lisf[i_shape]\n",
    "    i_centre = int(len(rangexy)**2 / 2) # middle point\n",
    "    area_centre = area_lisf[i_centre]           \n",
    "    # use middle point if errors are small\n",
    "    abs_error = abs(area_shape - area_centre)\n",
    "    pct_error = 100 * abs(1 - area_centre / area_shape)\n",
    "    if (abs_error <= cfg.ABS_ERROR) and (pct_error <= cfg.PCT_ERROR):\n",
    "        i_shape = i_centre\n",
    "        area_shape = area_centre\n",
    "\n",
    "    #i_ratio = np.argmax(area_ratio)          \n",
    "\n",
    "    # coordinates in the fine resolution\n",
    "    i = i_shape // len(rangexy)\n",
    "    j = i_shape % len(rangexy)\n",
    "    lat = lat_fine + rangexy[i]\n",
    "    lon = lon_fine + rangexy[j]\n",
    "\n",
    "    # coordinates and upstream area on coarse resolution\n",
    "    area = upstream_coarse.sel(x=lon, y=lat, method='nearest')\n",
    "    area_coarse = area.item() * 1e-6\n",
    "    lon_coarse = area.x.item()\n",
    "    lat_coarse = area.y.item()\n",
    "\n",
    "    # derive catchment polygon from the selected coordinates\n",
    "    basin_coarse = catchment_polygon(fdir_coarse.basins(xy=(lon_coarse, lat_coarse)).astype(np.int32),\n",
    "                                     transform=ldd_coarse.rio.transform(), \n",
    "                                     crs=ldd_coarse.rio.crs,\n",
    "                                     name='ID')\n",
    "    basin_coarse['ID'] = ID\n",
    "    basin_coarse.set_index('ID', inplace=True)\n",
    "    basin_coarse[cols_fine] = lat_fine, lon_fine, area_fine\n",
    "    basin_coarse[cols_coarse] = lat_coarse, lon_coarse, area_coarse\n",
    "\n",
    "    # export shapefile\n",
    "    output_shp = SHAPE_FOLDER_COARSE / f'{ID}.shp'\n",
    "    basin_coarse.to_file(output_shp)\n",
    "    logger.info(f'Catchment {ID} exported as shapefile: {output_shp}')\n",
    "\n",
    "    # update new columns in 'stations'\n",
    "    stations.loc[ID, cols_coarse] = lat_coarse, lon_coarse, area_coarse\n",
    "\n",
    "# export results\n",
    "stations.sort_index(axis=1, inplace=True)\n",
    "output_csv = cfg.STATIONS.parent / f'{cfg.STATIONS.stem}_{suffix_coarse}.csv'\n",
    "stations.to_csv(output_csv)\n",
    "logger.info(f'Results have been exported to: {output_csv}')"
   ]
  },
  {
   "cell_type": "code",
   "execution_count": null,
   "id": "62ee824a-a09a-4b90-a391-07588eaf8615",
   "metadata": {},
   "outputs": [],
   "source": [
    "lat, lon"
   ]
  },
  {
   "cell_type": "code",
   "execution_count": null,
   "id": "a3399ff6-00cb-4cef-8bb8-ae6ce4edd0be",
   "metadata": {},
   "outputs": [],
   "source": []
  }
 ],
 "metadata": {
  "kernelspec": {
   "display_name": "Python 3 (ipykernel)",
   "language": "python",
   "name": "python3"
  },
  "language_info": {
   "codemirror_mode": {
    "name": "ipython",
    "version": 3
   },
   "file_extension": ".py",
   "mimetype": "text/x-python",
   "name": "python",
   "nbconvert_exporter": "python",
   "pygments_lexer": "ipython3",
   "version": "3.9.13"
  }
 },
 "nbformat": 4,
 "nbformat_minor": 5
}
