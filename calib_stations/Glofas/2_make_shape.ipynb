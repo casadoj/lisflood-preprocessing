{
 "cells": [
  {
   "cell_type": "code",
   "execution_count": null,
   "id": "4b85031a-9d42-4029-a395-71f1aae21f6e",
   "metadata": {},
   "outputs": [],
   "source": [
    "\"\"\"\n",
    "# -------------------------------------------------------------------------\n",
    "# Name:        Use MERIT coordinates of upstream area to create shapefiles\n",
    "# Purpose:     uses upstream area of MERIT (UPA) and GRDC station data\n",
    "#              to create shapefiles  from rivernetwork MERIT data\n",
    "#\n",
    "# Author:      PB\n",
    "#\n",
    "# Created:     15/05/2022\n",
    "# Copyright:   (c) PB 2022\n",
    "\n",
    "# input:  grdc_MERIT_1.txt  station with new location fitted to merit UPA\n",
    "# output: grdc_MERIT_2.txt: station with new location fitted to merit UPA and shapefile\n",
    "#       shapefiles of basins in : ashapex_merit  e.g. grdc_basin_merit_1104800.shp\n",
    "\n",
    "No: Number from 1 ...\n",
    "GRDC_No: GRDC number\n",
    "lat: original latitude from GRDC metafile\n",
    "lon: original longituted from GRDC metafile\n",
    "area; provided basin area from GRDC metafile\n",
    "newlat: corrected latitude based on MERIT UPA dataset\n",
    "newlon: corrected longitute based on MERIT UPA dataset\n",
    "newarea: basin area based on MERIT UPA dataset\n",
    "shapearea: area of the shape calculated with geopandas directly from shape\n",
    "Lehner_shape_avail: Is there a shapefile from Lehner, 2012 to compare with?\n",
    "lehner_shapearea: area of the shape (lehner, 2012) calculated with geopandas directly from shape\n",
    "Indicator: indicator of similarity calculated by intersection / union of newshae and lehner shape - closer to 1 is more similar\n",
    "\n",
    "\"\"\""
   ]
  },
  {
   "cell_type": "code",
   "execution_count": 1,
   "id": "de816936-99b3-447a-a70f-7e193afbdab1",
   "metadata": {},
   "outputs": [
    {
     "name": "stderr",
     "output_type": "stream",
     "text": [
      "C:\\Users\\casadje\\AppData\\Local\\Temp\\ipykernel_11500\\2988659263.py:3: UserWarning: Shapely 2.0 is installed, but because PyGEOS is also installed, GeoPandas will still use PyGEOS by default for now. To force to use and test Shapely 2.0, you have to set the environment variable USE_PYGEOS=0. You can do this before starting the Python process, or in your code before importing geopandas:\n",
      "\n",
      "import os\n",
      "os.environ['USE_PYGEOS'] = '0'\n",
      "import geopandas\n",
      "\n",
      "In a future release, GeoPandas will switch to using Shapely by default. If you are using PyGEOS directly (calling PyGEOS functions on geometries from GeoPandas), this will then stop working and you are encouraged to migrate from PyGEOS to Shapely 2.0 (https://shapely.readthedocs.io/en/latest/migration_pygeos.html).\n",
      "  import geopandas as gpd\n"
     ]
    }
   ],
   "source": [
    "import numpy as np\n",
    "import pandas as pd\n",
    "import geopandas as gpd\n",
    "import rioxarray\n",
    "import pyflwdir\n",
    "from pathlib import Path\n",
    "from tqdm.auto import tqdm\n",
    "\n",
    "import warnings\n",
    "warnings.filterwarnings(\"ignore\")\n",
    "\n",
    "import logging\n",
    "logging.basicConfig(level=logging.INFO, format='%(asctime)s | %(levelname)s | %(message)s')\n",
    "logger = logging.getLogger(__name__)\n",
    "\n",
    "from utils import catchment_polygon"
   ]
  },
  {
   "cell_type": "markdown",
   "id": "81a8f64a-2673-400b-9d6a-e98ccd74d267",
   "metadata": {},
   "source": [
    "### CONFIGURATION"
   ]
  },
  {
   "cell_type": "code",
   "execution_count": 2,
   "id": "bb011c41-c0d1-4211-bc77-f7b957b08f12",
   "metadata": {},
   "outputs": [],
   "source": [
    "# input\n",
    "STATION_FILE = 'stations_MERIT_xarray.csv' # output of step 1\n",
    "LDD_FILE = '../data/danube_fd.tif'\n",
    "\n",
    "# output\n",
    "SHAPE_FOLDER = Path('../shape_glofas_3sec/')"
   ]
  },
  {
   "cell_type": "markdown",
   "id": "2d9b17c5-d44e-4fbf-8a87-b7c758332dc2",
   "metadata": {},
   "source": [
    "### READ INPUT DATA"
   ]
  },
  {
   "cell_type": "code",
   "execution_count": null,
   "id": "7ac49049-d622-46d4-b1a3-848736274ced",
   "metadata": {},
   "outputs": [],
   "source": [
    "# read stations text file\n",
    "stations = pd.read_csv(STATION_FILE, index_col='ID')\n",
    "logger.info(f'Table of stations correctly read: {STATION_FILE}')\n",
    "\n",
    "# read local drainage direction map\n",
    "ldd = rioxarray.open_rasterio(LDD_FILE).squeeze(dim='band')\n",
    "ldd = ldd.rename({'x': 'lon', 'y': 'lat'})\n",
    "logger.info(f'Map of local drainage directions corretly read: {LDD_FILE}')\n",
    "\n",
    "# parse the LDD map to be usable later on\n",
    "logger.debug(\"make ldd\")\n",
    "flw = pyflwdir.from_array(ldd.data, #flwdir, \n",
    "                          ftype='d8', \n",
    "                          transform=ldd.rio.transform(),\n",
    "                          check_ftype=False,\n",
    "                          latlon=True)\n",
    "logger.debug(\"done ldd\")"
   ]
  },
  {
   "cell_type": "markdown",
   "id": "98b89046-b468-4a22-97a0-8d913c8f5997",
   "metadata": {},
   "source": [
    "### PROCESSING"
   ]
  },
  {
   "cell_type": "code",
   "execution_count": 13,
   "id": "0f35b7a6-6496-403e-a5aa-7280fc0fd85d",
   "metadata": {},
   "outputs": [
    {
     "data": {
      "application/vnd.jupyter.widget-view+json": {
       "model_id": "524b31dc9c494a6186ebdbbf68e24f35",
       "version_major": 2,
       "version_minor": 0
      },
      "text/plain": [
       "stations:   0%|          | 0/45 [00:00<?, ?it/s]"
      ]
     },
     "metadata": {},
     "output_type": "display_data"
    }
   ],
   "source": [
    "for ID, attrs in tqdm(stations.iterrows(), total=stations.shape[0], desc='stations'):\n",
    "       \n",
    "    # corrected coordinates\n",
    "    lat, lon = attrs[['lat_new', 'lon_new']]\n",
    "    \n",
    "    # boolean map of the catchment associated to the corrected coordinates\n",
    "    logger.debug(\"basin\")\n",
    "    try:\n",
    "        basin_arr = flw.basins(xy=(lon, lat)).astype(np.int32)\n",
    "    except Exception as e:\n",
    "        logger.error(f'Conversion to basin not working in catchment {ID}: {e}')\n",
    "        continue\n",
    "\n",
    "    # vectorize the boolean map into geopandas\n",
    "    logger.debug(\"vectorize\")\n",
    "    basin_gdf = catchment_polygon(basin_arr.astype(np.int32),\n",
    "                                  transform=ldd.rio.transform(),\n",
    "                                  crs=ldd.rio.crs,\n",
    "                                  name='ID')\n",
    "    basin_gdf['ID'] = ID\n",
    "    basin_gdf.set_index('ID', inplace=True)\n",
    "    basin_gdf[attrs.index] = attrs.values\n",
    "\n",
    "    # export shape file\n",
    "    output_file = SHAPE_FOLDER / f'{ID}.shp'\n",
    "    basin_gdf.to_file(output_file)\n",
    "    logger.info(f'Catchment {ID} exported as shapefile: {output_file}')"
   ]
  }
 ],
 "metadata": {
  "kernelspec": {
   "display_name": "Python 3 (ipykernel)",
   "language": "python",
   "name": "python3"
  },
  "language_info": {
   "codemirror_mode": {
    "name": "ipython",
    "version": 3
   },
   "file_extension": ".py",
   "mimetype": "text/x-python",
   "name": "python",
   "nbconvert_exporter": "python",
   "pygments_lexer": "ipython3",
   "version": "3.9.13"
  }
 },
 "nbformat": 4,
 "nbformat_minor": 5
}
