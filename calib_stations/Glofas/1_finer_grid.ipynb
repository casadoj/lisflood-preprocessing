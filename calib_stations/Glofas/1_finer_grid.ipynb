{
 "cells": [
  {
   "cell_type": "code",
   "execution_count": 1,
   "id": "69c11bc3-8bf8-45d9-9515-ef2acc39873a",
   "metadata": {},
   "outputs": [],
   "source": [
    "import numpy as np\n",
    "import pandas as pd\n",
    "import rioxarray\n",
    "import pyflwdir\n",
    "from tqdm.auto import tqdm\n",
    "from pathlib import Path\n",
    "\n",
    "import warnings\n",
    "warnings.filterwarnings(\"ignore\")\n",
    "\n",
    "import logging\n",
    "logging.basicConfig(level=logging.INFO, format='%(asctime)s | %(levelname)s | %(message)s')\n",
    "logger = logging.getLogger(__name__)\n",
    "\n",
    "from lisfloodpreprocessing import Config\n",
    "from lisfloodpreprocessing.utils import find_pixel, catchment_polygon "
   ]
  },
  {
   "cell_type": "code",
   "execution_count": 3,
   "id": "55856468-13f1-41b9-8e08-88f484bd5819",
   "metadata": {},
   "outputs": [],
   "source": [
    "# CONFIGURATION\n",
    "\n",
    "cfg = Config('Z:/nahaUsers/casadje/datasets/reservoirs/ResOpsES/ancillary/lfcoordinates/config.yml')"
   ]
  },
  {
   "cell_type": "code",
   "execution_count": 4,
   "id": "d9839765-9d48-42ec-8e25-045c4db2669c",
   "metadata": {},
   "outputs": [
    {
     "name": "stderr",
     "output_type": "stream",
     "text": [
      "2024-08-21 08:06:20,499 | INFO | Map of upstream area corretly read: Z:\\nahaUsers\\casadje\\datasets\\reservoirs\\ResOpsES\\ancillary\\lfcoordinates\\MERIT\\upa.tif\n",
      "2024-08-21 08:06:20,513 | INFO | Map of local drainage directions corretly read: Z:\\nahaUsers\\casadje\\datasets\\reservoirs\\ResOpsES\\ancillary\\lfcoordinates\\MERIT\\dir.tif\n",
      "2024-08-21 08:06:20,513 | INFO | The resolution of the finer grid is 3 arcseconds\n",
      "2024-08-21 08:06:20,529 | INFO | Table of stations correctly read: Z:\\nahaUsers\\casadje\\datasets\\reservoirs\\ResOpsES\\ancillary\\lfcoordinates\\grand.csv\n"
     ]
    }
   ],
   "source": [
    "# READ INPUT DATA\n",
    "\n",
    "# read upstream map with fine resolution\n",
    "upstream_fine = rioxarray.open_rasterio(cfg.UPSTREAM_FINE).squeeze(dim='band')\n",
    "logger.info(f'Map of upstream area corretly read: {cfg.UPSTREAM_FINE}')\n",
    "\n",
    "# read local drainage direction map\n",
    "ldd_fine = rioxarray.open_rasterio(cfg.LDD_FINE).squeeze(dim='band')\n",
    "logger.info(f'Map of local drainage directions corretly read: {cfg.LDD_FINE}')\n",
    "\n",
    "# resolution of the input map\n",
    "cellsize = np.mean(np.diff(upstream_fine.x)) # degrees\n",
    "cellsize_arcsec = int(np.round(cellsize * 3600, 0)) # arcsec\n",
    "suffix_fine = f'{cellsize_arcsec}sec'\n",
    "logger.info(f'The resolution of the finer grid is {cellsize_arcsec} arcseconds')\n",
    "\n",
    "# read stations text file\n",
    "stations = pd.read_csv(cfg.STATIONS, index_col='ID')\n",
    "logger.info(f'Table of stations correctly read: {cfg.STATIONS}')"
   ]
  },
  {
   "cell_type": "code",
   "execution_count": 5,
   "id": "5f57a16a-4a38-4ba0-adeb-5f089bcc75bf",
   "metadata": {
    "collapsed": true,
    "jupyter": {
     "outputs_hidden": true
    },
    "tags": []
   },
   "outputs": [],
   "source": [
    "# PROCESSING\n",
    "\n",
    "# add columns to the table of stations\n",
    "new_cols = sorted([f'{col}_{suffix_fine}' for col in stations.columns])\n",
    "stations[new_cols] = np.nan\n",
    "\n",
    "# create river network\n",
    "fdir_fine = pyflwdir.from_array(ldd_fine.data,\n",
    "                                ftype='d8', \n",
    "                                transform=ldd_fine.rio.transform(),\n",
    "                                check_ftype=False,\n",
    "                                latlon=True)\n",
    "\n",
    "# output path\n",
    "SHAPE_FOLDER_FINE = cfg.SHAPE_FOLDER / suffix_fine\n",
    "SHAPE_FOLDER_FINE.mkdir(parents=True, exist_ok=True)\n",
    "\n",
    "for ID, attrs in tqdm(stations.iterrows(), total=stations.shape[0], desc='stations'):  \n",
    "\n",
    "    # reference coordinates and upstream area\n",
    "    lat_ref, lon_ref, area_ref = attrs[['lat', 'lon', 'area']]\n",
    "\n",
    "    # search new coordinates in an increasing range\n",
    "    ranges = [55, 101, 151]\n",
    "    penalties = [500, 500, 1000]\n",
    "    factors = [2, .5, .25]\n",
    "    acceptable_errors = [50, 80, np.nan]\n",
    "    for rangexy, penalty, factor, max_error in zip(ranges, penalties, factors, acceptable_errors):\n",
    "        logger.debug(f'Set range to {rangexy}')\n",
    "        lat, lon, error = find_pixel(upstream_fine, lat_ref, lon_ref, area_ref, rangexy=rangexy, penalty=penalty, factor=factor)\n",
    "        if error <= max_error:\n",
    "            break\n",
    "\n",
    "    # update new columns in 'stations'\n",
    "    stations.loc[ID, new_cols] = [int(upstream_fine.sel(y=lat, x=lon).item()), round(lat, 6), round(lon, 6)]\n",
    "    \n",
    "    # boolean map of the catchment associated to the corrected coordinates\n",
    "    basin_arr = fdir_fine.basins(xy=(lon, lat)).astype(np.int32)\n",
    "\n",
    "    # vectorize the boolean map into geopandas\n",
    "    basin_gdf = catchment_polygon(basin_arr.astype(np.int32),\n",
    "                                  transform=ldd_fine.rio.transform(),\n",
    "                                  crs=ldd_fine.rio.crs,\n",
    "                                  name='ID')\n",
    "    basin_gdf['ID'] = ID\n",
    "    basin_gdf.set_index('ID', inplace=True)\n",
    "    basin_gdf[attrs.index] = attrs.values\n",
    "\n",
    "    # export shape file\n",
    "    output_file = SHAPE_FOLDER_FINE / f'{ID}.shp'\n",
    "    basin_gdf.to_file(output_file)\n",
    "    logger.info(f'\\nCatchment {ID} exported as shapefile: {output_file}')"
   ]
  },
  {
   "cell_type": "code",
   "execution_count": 20,
   "id": "e5721ee0-ad1a-4ad1-be82-451d93a1bbc7",
   "metadata": {},
   "outputs": [
    {
     "data": {
      "text/html": [
       "<div>\n",
       "<style scoped>\n",
       "    .dataframe tbody tr th:only-of-type {\n",
       "        vertical-align: middle;\n",
       "    }\n",
       "\n",
       "    .dataframe tbody tr th {\n",
       "        vertical-align: top;\n",
       "    }\n",
       "\n",
       "    .dataframe thead th {\n",
       "        text-align: right;\n",
       "    }\n",
       "</style>\n",
       "<table border=\"1\" class=\"dataframe\">\n",
       "  <thead>\n",
       "    <tr style=\"text-align: right;\">\n",
       "      <th></th>\n",
       "      <th>area</th>\n",
       "      <th>area_3sec</th>\n",
       "      <th>lat</th>\n",
       "      <th>lat_3sec</th>\n",
       "      <th>lon</th>\n",
       "      <th>lon_3sec</th>\n",
       "    </tr>\n",
       "    <tr>\n",
       "      <th>ID</th>\n",
       "      <th></th>\n",
       "      <th></th>\n",
       "      <th></th>\n",
       "      <th></th>\n",
       "      <th></th>\n",
       "      <th></th>\n",
       "    </tr>\n",
       "  </thead>\n",
       "  <tbody>\n",
       "    <tr>\n",
       "      <th>2648</th>\n",
       "      <td>2506</td>\n",
       "      <td>2498.0</td>\n",
       "      <td>43.476871</td>\n",
       "      <td>43.476667</td>\n",
       "      <td>-6.721875</td>\n",
       "      <td>-6.721667</td>\n",
       "    </tr>\n",
       "    <tr>\n",
       "      <th>2649</th>\n",
       "      <td>134</td>\n",
       "      <td>132.0</td>\n",
       "      <td>43.461095</td>\n",
       "      <td>43.460833</td>\n",
       "      <td>-7.827105</td>\n",
       "      <td>-7.827500</td>\n",
       "    </tr>\n",
       "    <tr>\n",
       "      <th>2650</th>\n",
       "      <td>396</td>\n",
       "      <td>396.0</td>\n",
       "      <td>43.405480</td>\n",
       "      <td>43.406667</td>\n",
       "      <td>-8.009740</td>\n",
       "      <td>-8.010000</td>\n",
       "    </tr>\n",
       "    <tr>\n",
       "      <th>2651</th>\n",
       "      <td>2292</td>\n",
       "      <td>2286.0</td>\n",
       "      <td>43.385655</td>\n",
       "      <td>43.385833</td>\n",
       "      <td>-6.827365</td>\n",
       "      <td>-6.827500</td>\n",
       "    </tr>\n",
       "    <tr>\n",
       "      <th>2652</th>\n",
       "      <td>248</td>\n",
       "      <td>222.0</td>\n",
       "      <td>43.281609</td>\n",
       "      <td>43.281667</td>\n",
       "      <td>-8.296299</td>\n",
       "      <td>-8.296667</td>\n",
       "    </tr>\n",
       "  </tbody>\n",
       "</table>\n",
       "</div>"
      ],
      "text/plain": [
       "      area  area_3sec        lat   lat_3sec       lon  lon_3sec\n",
       "ID                                                             \n",
       "2648  2506     2498.0  43.476871  43.476667 -6.721875 -6.721667\n",
       "2649   134      132.0  43.461095  43.460833 -7.827105 -7.827500\n",
       "2650   396      396.0  43.405480  43.406667 -8.009740 -8.010000\n",
       "2651  2292     2286.0  43.385655  43.385833 -6.827365 -6.827500\n",
       "2652   248      222.0  43.281609  43.281667 -8.296299 -8.296667"
      ]
     },
     "execution_count": 20,
     "metadata": {},
     "output_type": "execute_result"
    }
   ],
   "source": [
    "stations.head()"
   ]
  },
  {
   "cell_type": "code",
   "execution_count": 19,
   "id": "8e9c0374-bcf6-4f55-8638-e43c5a18c445",
   "metadata": {
    "tags": []
   },
   "outputs": [
    {
     "name": "stderr",
     "output_type": "stream",
     "text": [
      "2024-08-21 08:41:58,687 | INFO | Coordinates an upstream area in the finer grid have been exported to: Z:\\nahaUsers\\casadje\\datasets\\reservoirs\\ResOpsES\\ancillary\\lfcoordinates\\grand_3sec.csv\n"
     ]
    }
   ],
   "source": [
    "# export results\n",
    "stations.sort_index(axis=1, inplace=True)\n",
    "output_csv = cfg.STATIONS.parent / f'{cfg.STATIONS.stem}_{suffix_fine}.csv'\n",
    "stations.to_csv(output_csv)\n",
    "logger.info(f'Coordinates an upstream area in the finer grid have been exported to: {output_csv}')"
   ]
  }
 ],
 "metadata": {
  "kernelspec": {
   "display_name": "Python 3 (ipykernel)",
   "language": "python",
   "name": "python3"
  },
  "language_info": {
   "codemirror_mode": {
    "name": "ipython",
    "version": 3
   },
   "file_extension": ".py",
   "mimetype": "text/x-python",
   "name": "python",
   "nbconvert_exporter": "python",
   "pygments_lexer": "ipython3",
   "version": "3.9.13"
  }
 },
 "nbformat": 4,
 "nbformat_minor": 5
}
