{
 "cells": [
  {
   "cell_type": "code",
   "execution_count": 3,
   "id": "79f2467a-ebb9-408f-9bc1-cbcc23b48a4a",
   "metadata": {},
   "outputs": [],
   "source": [
    "import numpy as np\n",
    "import pandas as pd\n",
    "import argparse\n",
    "import logging\n",
    "from datetime import datetime\n",
    "\n",
    "from lisfloodpreprocessing import Config, read_input_files\n",
    "from lisfloodpreprocessing.utils import find_conflicts\n",
    "from lisfloodpreprocessing.finer_grid import coordinates_fine\n",
    "from lisfloodpreprocessing.coarser_grid import coordinates_coarse"
   ]
  },
  {
   "cell_type": "code",
   "execution_count": 2,
   "id": "88a619fd-d026-445c-81da-9d26100b2eac",
   "metadata": {},
   "outputs": [],
   "source": [
    "def main():\n",
    "    \n",
    "    parser = argparse.ArgumentParser(\n",
    "        description=\"\"\"\n",
    "        Correct the coordinates of a set of points to match the river network in the\n",
    "        LISFLOOD static map.\n",
    "        First, it uses a reference value of catchment area to find the most accurate \n",
    "        pixel in a high-resolution map.\n",
    "        Second, it finds the pixel in the low-resolution map that better matches the \n",
    "        catchment shape derived from the high-resolution map.\n",
    "        \"\"\"\n",
    "    )\n",
    "    parser.add_argument('-c', '--config-file', type=str, required=True, help='Path to the configuration file')\n",
    "    parser.add_argument('-r', '--reservoirs', action='store_true', default=False,\n",
    "                        help='Define the points in the input CSV file as reservoirs')\n",
    "    args = parser.parse_args()\n",
    "    \n",
    "    # create logger\n",
    "    logger = logging.getLogger('lfcoords')\n",
    "    logger.setLevel(logging.INFO)\n",
    "    logger.propagate = False\n",
    "    log_format = logging.Formatter('%(asctime)s | %(levelname)s | %(name)s | %(message)s', datefmt='%Y-%m-%d %H:%M:%S')\n",
    "    # console handler\n",
    "    c_handler = logging.StreamHandler()\n",
    "    c_handler.setFormatter(log_format)\n",
    "    c_handler.setLevel(logging.INFO)\n",
    "    logger.addHandler(c_handler)\n",
    "    # File handler\n",
    "    f_handler = logging.FileHandler(f'lfcoords_{datetime.now():%Y%m%d%H%M}.log')\n",
    "    f_handler.setFormatter(log_format)\n",
    "    f_handler.setLevel(logging.INFO)\n",
    "    logger.addHandler(f_handler)\n",
    "        "
   ]
  },
  {
   "cell_type": "code",
   "execution_count": 8,
   "id": "0abb66f7-ea46-4af7-af80-347003079425",
   "metadata": {},
   "outputs": [],
   "source": [
    "from pathlib import Path\n",
    "import geopandas as gpd"
   ]
  },
  {
   "cell_type": "code",
   "execution_count": 21,
   "id": "e938a1db-06df-4e6e-9e17-b5349684446e",
   "metadata": {},
   "outputs": [],
   "source": [
    "import rioxarray"
   ]
  },
  {
   "cell_type": "code",
   "execution_count": 6,
   "id": "d2b5dbbb-12e0-4432-b91b-0d2ea7627554",
   "metadata": {},
   "outputs": [],
   "source": [
    "path = Path('Z:/nahaUsers/casadje/datasets/reservoirs/ResOpsUS/ancillary/lfcoords/')"
   ]
  },
  {
   "cell_type": "code",
   "execution_count": 15,
   "id": "9b55753f-adee-41f1-bdac-3b39ba8d3237",
   "metadata": {},
   "outputs": [],
   "source": [
    "# read configuration\n",
    "cfg = Config(path / 'config.yml')\n",
    "cfg.FINE_RESOLUTION = '3sec'\n",
    "cfg.COARSE_RESOLUTION = '3min'"
   ]
  },
  {
   "cell_type": "code",
   "execution_count": 22,
   "id": "70c98ba6-64e6-4577-a45a-e9b4c37e4792",
   "metadata": {},
   "outputs": [],
   "source": [
    "# read upstream area map of coarse grid\n",
    "inputs = {\n",
    "    'upstream_coarse': rioxarray.open_rasterio(cfg.UPSTREAM_COARSE).squeeze(dim='band'),\n",
    "    'ldd_coarse': rioxarray.open_rasterio(cfg.LDD_COARSE).squeeze(dim='band')\n",
    "}"
   ]
  },
  {
   "cell_type": "code",
   "execution_count": 29,
   "id": "66b670e5-1b57-4cb3-ad5e-239c9bbfb287",
   "metadata": {},
   "outputs": [],
   "source": [
    "# find coordinates in high resolution\n",
    "points_HR = gpd.read_file(cfg.OUTPUT_FOLDER / 'points_3sec.shp').set_index('ID', drop=True)\n",
    "polygons_HR = gpd.read_file(cfg.OUTPUT_FOLDER / 'catchments_3sec.shp').set_index('ID', drop=True)"
   ]
  },
  {
   "cell_type": "code",
   "execution_count": 33,
   "id": "b19220d5-b411-4868-9e29-94cc5a18eb3d",
   "metadata": {},
   "outputs": [
    {
     "name": "stderr",
     "output_type": "stream",
     "text": [
      "There are 5 conflicts in which the new reservoirs area has a large error\n"
     ]
    }
   ],
   "source": [
    "# find conflicts in high resolution\n",
    "conflicts_fine = find_conflicts(points_HR,\n",
    "                                resolution=cfg.FINE_RESOLUTION,\n",
    "                                pct_error=cfg.PCT_ERROR / 2,\n",
    "                                save=cfg.OUTPUT_FOLDER / f'conflicts_{cfg.FINE_RESOLUTION}.shp')\n",
    "# if conflicts_fine is not None:\n",
    "#     points_HR.drop(conflicts_fine.index, axis=0, inplace=True)"
   ]
  },
  {
   "cell_type": "code",
   "execution_count": 30,
   "id": "3a1bffe6-96b5-4c6a-8529-1d2ed942ea34",
   "metadata": {},
   "outputs": [
    {
     "name": "stderr",
     "output_type": "stream",
     "text": [
      "points: 100%|████████████████████████████████████████████████████████████████████████| 123/123 [21:02<00:00, 10.26s/it]\n"
     ]
    }
   ],
   "source": [
    "# find coordinates in LISFLOOD\n",
    "points_LR, polygons_LR = coordinates_coarse(cfg,\n",
    "                                            points_fine=points_HR,\n",
    "                                            polygons_fine=polygons_HR,\n",
    "                                            ldd_coarse=inputs['ldd_coarse'],\n",
    "                                            upstream_coarse=inputs['upstream_coarse'],\n",
    "                                            reservoirs=False,\n",
    "                                            save=True)"
   ]
  },
  {
   "cell_type": "code",
   "execution_count": 32,
   "id": "181cfe6f-e559-467f-a5f9-ec36c0c73251",
   "metadata": {},
   "outputs": [],
   "source": [
    "# find conflicts in LISFLOOD\n",
    "conflicts_coarse = find_conflicts(points_LR,\n",
    "                                  resolution=cfg.COARSE_RESOLUTION,\n",
    "                                  pct_error=cfg.PCT_ERROR,\n",
    "                                  save=cfg.OUTPUT_FOLDER / f'conflicts_{cfg.COARSE_RESOLUTION}.shp')"
   ]
  },
  {
   "cell_type": "code",
   "execution_count": null,
   "id": "f7dba71c-536f-427e-90ca-a0af285abfb1",
   "metadata": {},
   "outputs": [],
   "source": [
    "cfg.OUTPUT_FOLDER / f'conflicts_{cfg.COARSE_RESOLUTION}.shp'"
   ]
  }
 ],
 "metadata": {
  "kernelspec": {
   "display_name": "Python 3 (ipykernel)",
   "language": "python",
   "name": "python3"
  },
  "language_info": {
   "codemirror_mode": {
    "name": "ipython",
    "version": 3
   },
   "file_extension": ".py",
   "mimetype": "text/x-python",
   "name": "python",
   "nbconvert_exporter": "python",
   "pygments_lexer": "ipython3",
   "version": "3.9.13"
  }
 },
 "nbformat": 4,
 "nbformat_minor": 5
}
